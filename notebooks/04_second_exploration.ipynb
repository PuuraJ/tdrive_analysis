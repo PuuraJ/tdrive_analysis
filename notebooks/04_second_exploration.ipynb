{
 "cells": [
  {
   "cell_type": "markdown",
   "id": "930e6c77",
   "metadata": {},
   "source": [
    "## Second exploration of data\n",
    "\n",
    "In here we will take a look at processed data and create some plots to explain what we see. We provide answer to the following questions.\n",
    "\n",
    "\n",
    "    1) How many active taxi there are through time? \n",
    "    2) When are the most active hours?\n",
    "    3) Average moved distance of moving taxis throughout the day.\n",
    "    4) Average speed of moving taxis throughout the day\n",
    "    5) Distribution of distances covered by taxis throughout days.\n",
    "    \n",
    "    \n",
    "Note that all this analysis is on all the data within the 5th ring of Beijing. The results may vary a lot depending on a sector, which this notebook does not cover."
   ]
  },
  {
   "cell_type": "code",
   "execution_count": 1,
   "id": "0d0089f0",
   "metadata": {},
   "outputs": [],
   "source": [
    "import sys\n",
    "sys.path.append(\"../\") # Add parent dir to source\n",
    "import pandas as pd\n",
    "import numpy as np\n",
    "\n",
    "import matplotlib.pyplot as plt\n",
    "import seaborn as sns\n",
    "\n",
    "import folium\n",
    "from folium import plugins\n",
    "from folium.plugins import HeatMap\n",
    "import datetime\n",
    "\n",
    "import matplotlib.ticker as ticker\n",
    "import matplotlib.dates as mdates\n"
   ]
  },
  {
   "cell_type": "code",
   "execution_count": 2,
   "id": "3da264b8",
   "metadata": {},
   "outputs": [],
   "source": [
    "df = pd.read_pickle(\"../processed_data/fully_processed.pkl\")"
   ]
  },
  {
   "cell_type": "markdown",
   "id": "73c66bea",
   "metadata": {},
   "source": [
    "## Activity through time\n",
    "\n",
    "\n",
    "    1) How many taxi's have logged GPS past 30 minutes.\n",
    "    2) How many taxi's have moved more than 1000 meters (Haversine) past 30 minutes."
   ]
  },
  {
   "cell_type": "code",
   "execution_count": 3,
   "id": "9fc38717",
   "metadata": {},
   "outputs": [],
   "source": [
    "def haversine_np(lon1, lat1, lon2, lat2):\n",
    "    \"\"\"\n",
    "    Source: https://stackoverflow.com/questions/29545704/fast-haversine-approximation-python-pandas\n",
    "\n",
    "    Calculate the great circle distance between two points\n",
    "    on the earth (specified in decimal degrees)\n",
    "\n",
    "    All args must be of equal length.    \n",
    "\n",
    "    \"\"\"\n",
    "    lon1, lat1, lon2, lat2 = map(np.radians, [lon1, lat1, lon2, lat2])\n",
    "\n",
    "    dlon = lon2 - lon1\n",
    "    dlat = lat2 - lat1\n",
    "\n",
    "    a = np.sin(dlat/2.0)**2 + np.cos(lat1) * np.cos(lat2) * np.sin(dlon/2.0)**2\n",
    "\n",
    "    c = 2 * np.arcsin(np.sqrt(a))\n",
    "    km = 6367 * c\n",
    "    return km"
   ]
  },
  {
   "cell_type": "markdown",
   "id": "cdaed61c",
   "metadata": {},
   "source": [
    "### Count of taxies logging"
   ]
  },
  {
   "cell_type": "code",
   "execution_count": 4,
   "id": "c0b06c4b",
   "metadata": {},
   "outputs": [],
   "source": [
    "taxi_activity = df.set_index(\"time\").groupby(\n",
    "    [\"taxi_id\", pd.Grouper(freq=\"30min\")]\n",
    ").first().reset_index().set_index(\"time\").groupby(pd.Grouper(freq=\"30min\")).count()\n",
    "\n",
    "taxi_activity = taxi_activity.reset_index()[[\"time\", \"taxi_id\"]].rename(columns={\"taxi_id\": \"count\"})"
   ]
  },
  {
   "cell_type": "code",
   "execution_count": 5,
   "id": "98fac8de",
   "metadata": {},
   "outputs": [
    {
     "ename": "NameError",
     "evalue": "name 'plticker' is not defined",
     "output_type": "error",
     "traceback": [
      "\u001b[0;31m---------------------------------------------------------------------------\u001b[0m",
      "\u001b[0;31mNameError\u001b[0m                                 Traceback (most recent call last)",
      "\u001b[0;32m<ipython-input-5-695702b7f2a9>\u001b[0m in \u001b[0;36m<module>\u001b[0;34m\u001b[0m\n\u001b[1;32m      2\u001b[0m \u001b[0;34m\u001b[0m\u001b[0m\n\u001b[1;32m      3\u001b[0m \u001b[0msns\u001b[0m\u001b[0;34m.\u001b[0m\u001b[0mset_style\u001b[0m\u001b[0;34m(\u001b[0m\u001b[0;34m\"whitegrid\"\u001b[0m\u001b[0;34m)\u001b[0m\u001b[0;34m\u001b[0m\u001b[0;34m\u001b[0m\u001b[0m\n\u001b[0;32m----> 4\u001b[0;31m \u001b[0mloc\u001b[0m \u001b[0;34m=\u001b[0m \u001b[0mplticker\u001b[0m\u001b[0;34m.\u001b[0m\u001b[0mMultipleLocator\u001b[0m\u001b[0;34m(\u001b[0m\u001b[0mbase\u001b[0m\u001b[0;34m=\u001b[0m\u001b[0;36m0.125\u001b[0m\u001b[0;34m)\u001b[0m\u001b[0;34m\u001b[0m\u001b[0;34m\u001b[0m\u001b[0m\n\u001b[0m\u001b[1;32m      5\u001b[0m \u001b[0maxes\u001b[0m \u001b[0;34m=\u001b[0m  \u001b[0msns\u001b[0m\u001b[0;34m.\u001b[0m\u001b[0mlineplot\u001b[0m\u001b[0;34m(\u001b[0m\u001b[0mdata\u001b[0m\u001b[0;34m=\u001b[0m\u001b[0mtaxi_activity\u001b[0m\u001b[0;34m,\u001b[0m \u001b[0mx\u001b[0m\u001b[0;34m=\u001b[0m\u001b[0;34m\"time\"\u001b[0m\u001b[0;34m,\u001b[0m \u001b[0my\u001b[0m\u001b[0;34m=\u001b[0m\u001b[0;34m\"count\"\u001b[0m\u001b[0;34m)\u001b[0m\u001b[0;34m\u001b[0m\u001b[0;34m\u001b[0m\u001b[0m\n\u001b[1;32m      6\u001b[0m \u001b[0maxes\u001b[0m\u001b[0;34m.\u001b[0m\u001b[0mxaxis\u001b[0m\u001b[0;34m.\u001b[0m\u001b[0mset_major_locator\u001b[0m\u001b[0;34m(\u001b[0m\u001b[0mloc\u001b[0m\u001b[0;34m)\u001b[0m\u001b[0;34m\u001b[0m\u001b[0;34m\u001b[0m\u001b[0m\n",
      "\u001b[0;31mNameError\u001b[0m: name 'plticker' is not defined"
     ]
    }
   ],
   "source": [
    "\n",
    "import matplotlib.ticker as plticker\n",
    "\n",
    "plt.rcParams[\"figure.figsize\"] = (20,8)\n",
    "\n",
    "sns.set_style(\"whitegrid\")\n",
    "loc = plticker.MultipleLocator(base=0.125)\n",
    "axes =  sns.lineplot(data=taxi_activity, x=\"time\", y=\"count\")\n",
    "axes.xaxis.set_major_locator(loc)\n",
    "axes.xaxis.set_major_formatter(mdates.DateFormatter('%d.%m.%Y %H:%M'))\n",
    "\n",
    "for label in axes.get_xticklabels():\n",
    "    label.set_rotation(90)\n",
    "\n",
    "plt.title(\"Count of unique logged taxis in last 30 minutes, from Monday to Thursday\")\n",
    "plt.ylabel(\"Count of logging taxis\")\n",
    "plt.xlabel(\"Time\")\n",
    "plt.show()\n",
    "\n",
    "\n",
    "\n",
    "plt.show()\n"
   ]
  },
  {
   "cell_type": "markdown",
   "id": "2787d421",
   "metadata": {},
   "source": [
    "From the plot above we can see that the most number of taxies logged past 30 minutes reach peak around midday and start dropping after 18:00.\n",
    "\n",
    "Taxis become least active at 6 in the morning.\n",
    "\n",
    "We also see a noticeable decrease in number of GPS-logging taxis as week moves forward. Monday and Tuesday have many more actively logging taxies compared to Wednesday and Thursday.\n",
    "\n",
    "The general trend seems to be the same with some day number having some multiplicative. However, we can't say it too confidently having only a week's data. "
   ]
  },
  {
   "cell_type": "markdown",
   "id": "d15cda40",
   "metadata": {},
   "source": [
    "## Count of taxies moving\n",
    "\n",
    "Although taxies may be logging, lets see similar graph, but only include taxies that have moved at least 1000 meters (might play around with this). Some taxis may just be having a pause in one location or not having a client.\n",
    "\n",
    "To do this we group taxis by id and time and see if total distance moved past 30 minutes is more than 1000 meters."
   ]
  },
  {
   "cell_type": "code",
   "execution_count": null,
   "id": "fb0f3345",
   "metadata": {},
   "outputs": [],
   "source": [
    "df[[\"long_prev\", \"lat_prev\", \"time_prev\"]] = df.groupby('taxi_id')[['long', 'lat', \"time\"]].shift()\n",
    "df[\"distance_from_prev\"] = haversine_np(df[\"long\"], df[\"lat\"], df[\"long_prev\"], df[\"lat_prev\"])\n",
    "\n"
   ]
  },
  {
   "cell_type": "code",
   "execution_count": null,
   "id": "38cc858d",
   "metadata": {},
   "outputs": [],
   "source": [
    "taxi_moving_activity = df.set_index(\"time\").groupby(\n",
    "    [\"taxi_id\", pd.Grouper(freq=\"30min\")]\n",
    ").sum()\n",
    "# Keep these intervals with Haversine distance sum more than 1 km\n",
    "taxi_moving_activity = taxi_moving_activity[taxi_moving_activity[\"distance_from_prev\"] > 1]\n",
    "\n",
    "taxi_moving_activity = taxi_moving_activity.reset_index().set_index(\"time\").groupby(\n",
    "    pd.Grouper(freq=\"30min\")).count()\n",
    "\n",
    "taxi_moving_activity = taxi_moving_activity.reset_index()[[\"time\", \"taxi_id\"]].rename(columns={\"taxi_id\": \"count\"})\n",
    " "
   ]
  },
  {
   "cell_type": "code",
   "execution_count": null,
   "id": "5b75ac96",
   "metadata": {},
   "outputs": [],
   "source": [
    "plt.rcParams[\"figure.figsize\"] = (20,8)\n",
    "\n",
    "sns.set_style(\"whitegrid\")\n",
    "loc = plticker.MultipleLocator(base=0.125)\n",
    "axes =  sns.lineplot(data=taxi_moving_activity, x=\"time\", y=\"count\")\n",
    "\n",
    "axes.xaxis.set_major_locator(loc)\n",
    "axes.xaxis.set_major_formatter(mdates.DateFormatter('%d.%m.%Y %H:%M'))\n",
    "\n",
    "for label in axes.get_xticklabels():\n",
    "    label.set_rotation(90)\n",
    "\n",
    "plt.title(\"Count of unique moving taxis in last 30 minutes, from Monday to Thursday\")\n",
    "plt.ylabel(\"Count of moving taxis\")\n",
    "plt.xlabel(\"Time\")\n",
    "plt.show()"
   ]
  },
  {
   "cell_type": "code",
   "execution_count": null,
   "id": "2795c851",
   "metadata": {},
   "outputs": [],
   "source": [
    "# Merge datasets\n",
    "taxi_activity[\"class\"] = \"logging\"\n",
    "taxi_moving_activity[\"class\"] = \"moving\"\n",
    "\n",
    "merged_taxi_activity = pd.concat([taxi_activity, taxi_moving_activity])"
   ]
  },
  {
   "cell_type": "code",
   "execution_count": null,
   "id": "a06e8588",
   "metadata": {},
   "outputs": [],
   "source": [
    "plt.rcParams[\"figure.figsize\"] = (20,8)\n",
    "\n",
    "sns.set_style(\"whitegrid\")\n",
    "loc = plticker.MultipleLocator(base=0.125)\n",
    "axes =  sns.lineplot(data=merged_taxi_activity, x=\"time\", y=\"count\", hue=\"class\")\n",
    "\n",
    "axes.xaxis.set_major_locator(loc)\n",
    "axes.xaxis.set_major_formatter(mdates.DateFormatter('%d.%m.%Y %H:%M'))\n",
    "\n",
    "for label in axes.get_xticklabels():\n",
    "    label.set_rotation(90)\n",
    "\n",
    "plt.title(\"Count of active taxis in last 30 minutes, from Monday to Thursday\")\n",
    "plt.ylabel(\"Count of moving taxis\")\n",
    "plt.xlabel(\"Time\")\n",
    "plt.show()"
   ]
  },
  {
   "cell_type": "markdown",
   "id": "794e5993",
   "metadata": {},
   "source": [
    "From the above plot we can see, that not all taxis that are logging GPS data are not necessarily moving. They may be waiting for a client (or just have forgotten the logger on). Also some difference could be due to a traffic congestion if the taxi has moved less than 1 km in last 30 min.\n",
    "\n",
    "What we can see is that during nighttimes and especially early in the morning, there are many more logging taxis than moving. There are many more inactive taxis during the nighttime. During daytime most of the logging taxis are also moving, hence they are active.\n",
    "\n",
    "\n",
    "#### Hardest and easiest time to find an empty taxi\n",
    "\n",
    "According to the graph above, I could, with some hesitation, say that it is easiest to find taxi during nighttime. Especially early in the morning (3-6 am) as during that times there are many more logging taxis than moving.\n",
    "\n",
    "It seems to be the hardest to find an empty taxi at the start and the end of the workday. This is when the gap between the lines is the smallest. \n",
    "\n",
    "\n",
    "\n",
    "Note that this is just heuristic-based :) Also, results may vary depending on the heuristic of classifying a taxi as \"moving\"\n",
    "\n",
    "#### Difference between logging and moving\n",
    "\n",
    "Lets also plot the difference between logging and moving counts."
   ]
  },
  {
   "cell_type": "code",
   "execution_count": null,
   "id": "04454a29",
   "metadata": {},
   "outputs": [],
   "source": [
    "merged_act = taxi_activity.merge(taxi_moving_activity, on=\"time\")\n",
    "merged_act[\"diff\"] =  merged_act[\"count_x\"] - merged_act[\"count_y\"]\n"
   ]
  },
  {
   "cell_type": "code",
   "execution_count": null,
   "id": "b2392c36",
   "metadata": {},
   "outputs": [],
   "source": [
    "plt.rcParams[\"figure.figsize\"] = (20,8)\n",
    "\n",
    "sns.set_style(\"whitegrid\")\n",
    "loc = plticker.MultipleLocator(base=0.125)\n",
    "axes =  sns.lineplot(data=merged_act, x=\"time\", y=\"diff\")\n",
    "\n",
    "axes.xaxis.set_major_locator(loc)\n",
    "axes.xaxis.set_major_formatter(mdates.DateFormatter('%d.%m.%Y %H:%M'))\n",
    "\n",
    "for label in axes.get_xticklabels():\n",
    "    label.set_rotation(90)\n",
    "\n",
    "plt.title(\"Difference between moving and active taxis in last 30 minutes, from Monday to Thursday\")\n",
    "plt.ylabel(\"Logging - Moving counts\")\n",
    "plt.xlabel(\"Time\")\n",
    "plt.show()"
   ]
  },
  {
   "cell_type": "markdown",
   "id": "1483f36f",
   "metadata": {},
   "source": [
    "The plot above shows the difference between counts of logging and moving taxis. If we count taxi as moving, we could say that it is taken / moving a passenger. Therefore the above plot is some estimation to the number of \"free\" taxies.\n",
    "\n",
    "From the plot above, we can see that it is easiest to find an empty taxi 6 am in the morning and more difficult at the start of the workday to midday (9-12). Also during the evening (17-21).\n",
    "\n",
    "However, we can't really say that it is more difficult to find taxi during Wednesday or Thursday. Just having less moving taxis might mean that there is also less demand! Having less demand could mean that it is actually easier to find taxi during Thursday, even though the difference is smaller. \n",
    "\n",
    "Therefore it only makes sense to look differences during the same day of the week.\n"
   ]
  },
  {
   "cell_type": "markdown",
   "id": "3e96c403",
   "metadata": {},
   "source": [
    "### Moved distance and speed\n",
    "\n",
    "Lets see how the distance and average speed of active taxies vary throughout days. I'm hoping to see that speeds are slower during the day and faster during the nighttime. This variation would be due to the traffic factor. \n",
    "\n",
    "To do this we will look at much higher granularity of time sampling. 15 minute granularity might be bad as the car might just be waiting for some of that period.. Therefore the found means for average speeds are underestimations of actual speeds, as they might not factor for some periods of non-moving. \n",
    "\n",
    "In addition, since Haversine distance is the length of shortest line on globe, then this is also an underestimation as it does not account for road structure.\n",
    "\n",
    "\n",
    "However, the differences throughout the day could show some times where taxis move slower, indicating at traffic congestions etc.\n",
    "\n",
    "\n",
    "\n",
    "To do this we need to perform 2 tasks here:\n",
    "\n",
    "    1) Find whether a taxi is moving.\n",
    "        It doesn't make sense to count taxis which are waiting for clients!\n",
    "    2) Calculate average speed during the moving period\n",
    "    \n",
    "#### Find whether a taxi is moving\n",
    "\n",
    "Heuristic to check if taxi is moving:\n",
    "    \n",
    "    Check if taxi has moved more than 500 meters past 15 minutes. This would count as moving.\n",
    "    \n",
    "#### Calculate average speed\n",
    "    \n",
    "If taxi has moved more than 500 meters past 15 minutes, then calculate average speed during that period.\n",
    "\n"
   ]
  },
  {
   "cell_type": "code",
   "execution_count": null,
   "id": "1579d9a2",
   "metadata": {},
   "outputs": [],
   "source": [
    "taxi_moving_speed = df.set_index(\"time\").groupby(\n",
    "    [\"taxi_id\", pd.Grouper(freq=\"15min\")]\n",
    ").sum()\n",
    "\n",
    "# Keep these intervals with Haversine distance sum more than 0.5 km\n",
    "taxi_moving_speed = taxi_moving_speed[taxi_moving_speed[\"distance_from_prev\"] > 0.5]\n",
    "\n",
    "# We can just multiply by 4 to get km/h, as we had 15 min sampling\n",
    "taxi_moving_speed[\"kmh\"] = taxi_moving_speed[\"distance_from_prev\"] * 4\n"
   ]
  },
  {
   "cell_type": "code",
   "execution_count": null,
   "id": "484ec3da",
   "metadata": {},
   "outputs": [],
   "source": [
    "# Mean speed\n",
    "taxi_moving_speed[\"kmh\"].mean()"
   ]
  },
  {
   "cell_type": "code",
   "execution_count": null,
   "id": "0c9d39a1",
   "metadata": {},
   "outputs": [],
   "source": [
    "# Group by time of the day. Aggregate mean kmh over all active taxis for that time slot.\n",
    "\n",
    "moving_speeds = taxi_moving_speed.reset_index().set_index(\"time\").groupby(pd.Grouper(freq=\"15min\")).mean()\n",
    "moving_speeds = moving_speeds.reset_index()"
   ]
  },
  {
   "cell_type": "code",
   "execution_count": null,
   "id": "143775f1",
   "metadata": {},
   "outputs": [],
   "source": [
    "moving_speeds"
   ]
  },
  {
   "cell_type": "code",
   "execution_count": null,
   "id": "fcc0c2d9",
   "metadata": {},
   "outputs": [],
   "source": [
    "plt.rcParams[\"figure.figsize\"] = (20,8)\n",
    "\n",
    "sns.set_style(\"whitegrid\")\n",
    "loc = plticker.MultipleLocator(base=0.125)\n",
    "axes =  sns.lineplot(data=moving_speeds, x=\"time\", y=\"kmh\", label=\"Mean speed (km/h)\")\n",
    "axes =  sns.lineplot(data=moving_speeds, x=\"time\", y=\"distance_from_prev\", label=\"Mean distance covered (km)\")\n",
    "\n",
    "axes.xaxis.set_major_locator(loc)\n",
    "axes.xaxis.set_major_formatter(mdates.DateFormatter('%d.%m.%Y %H:%M'))\n",
    "\n",
    "axes.axhline(moving_speeds[\"kmh\"].mean(), ls='--', label=\"Overall mean speed (km/h)\", color=\"red\")\n",
    "axes.axhline(moving_speeds[\"distance_from_prev\"].mean(), ls='--', label=\"Overall mean distance\", color=\"darkblue\")\n",
    "plt.legend()\n",
    "\n",
    "\n",
    "for label in axes.get_xticklabels():\n",
    "    label.set_rotation(90)\n",
    "\n",
    "plt.title(\"Mean speed and mean moved distance past 30 minutes of moving taxis,from Monday to Thursday\")\n",
    "plt.ylabel(\"Mean km/h\")\n",
    "plt.xlabel(\"Time\")\n",
    "plt.show()"
   ]
  },
  {
   "cell_type": "markdown",
   "id": "922d0414",
   "metadata": {},
   "source": [
    "### Results\n",
    "\n",
    "Indeed, during the usually busiest times of the day (morning to evening), the mean speeds are smaller. And during nighttimes the mean speed is greater (most likely due to no traffic).\n",
    "\n",
    "We can also see that for Wednesday and Thursday the speeds during daytime are greater compared to Monday and Tuesday.\n",
    "\n",
    "There is an artefact during the nighttime of 5th February - large drop and then back up to compensate. This might be due to how the data was resampled.\n",
    "\n",
    "\n",
    "Note: To make the plot correct, a second axis name for distance covered should be added. But I guess it is understandable as it is."
   ]
  },
  {
   "cell_type": "markdown",
   "id": "310d0f05",
   "metadata": {},
   "source": [
    "## Distance covered per day\n",
    "\n",
    "Lets also see how much distance do taxis cover per day."
   ]
  },
  {
   "cell_type": "code",
   "execution_count": null,
   "id": "3eab526c",
   "metadata": {},
   "outputs": [],
   "source": [
    "distance_covered = df.set_index(\"time\").groupby([\"taxi_id\", pd.Grouper(freq=\"1D\")]).sum().reset_index()\n",
    "distance_covered = distance_covered.rename(columns={\"distance_from_prev\": \"distance\"})"
   ]
  },
  {
   "cell_type": "code",
   "execution_count": null,
   "id": "dccad051",
   "metadata": {},
   "outputs": [],
   "source": [
    "distance_covered.head()"
   ]
  },
  {
   "cell_type": "code",
   "execution_count": null,
   "id": "80ed2519",
   "metadata": {},
   "outputs": [],
   "source": [
    "sns.set_theme(style=\"whitegrid\")\n",
    "ax = sns.boxplot(x=\"time\", y=\"distance\", data=distance_covered)\n",
    "plt.title(\"Distance covered per each day\")\n",
    "\n",
    "medians = distance_covered.groupby(\"time\")['distance'].median()\n",
    "vertical_offset = distance_covered['distance'].median() * 0.05 # offset from median for display\n",
    "\n",
    "for xtick in ax.get_xticks():\n",
    "    ax.text(xtick, medians[xtick] + vertical_offset, np.round(medians[xtick], 3), \n",
    "            horizontalalignment='center',size='x-small',color='w',weight='semibold')\n",
    "\n",
    "\n",
    "plt.show()"
   ]
  },
  {
   "cell_type": "code",
   "execution_count": null,
   "id": "fffaf646",
   "metadata": {},
   "outputs": [],
   "source": [
    "sns.set_theme(style=\"whitegrid\")\n",
    "ax = sns.boxplot(x=\"time\", y=\"distance\", data=distance_covered)\n",
    "plt.title(\"Distance covered per each day\")\n",
    "\n",
    "medians = distance_covered.groupby(\"time\")['distance'].median()\n",
    "vertical_offset = distance_covered['distance'].median() * 0.05 # offset from median for display\n",
    "\n",
    "for xtick in ax.get_xticks():\n",
    "    ax.text(xtick, medians[xtick] + vertical_offset, np.round(medians[xtick], 3), \n",
    "            horizontalalignment='center',size='x-small',color='w',weight='semibold')\n",
    "\n",
    "\n",
    "plt.ylim(0, 500)\n",
    "\n",
    "plt.show()"
   ]
  },
  {
   "cell_type": "code",
   "execution_count": null,
   "id": "7ca812f8",
   "metadata": {},
   "outputs": [],
   "source": [
    "sns.set_theme(style=\"whitegrid\")\n",
    "ax = sns.violinplot(x=\"time\", y=\"distance\", data=distance_covered)\n",
    "plt.title(\"Distance covered per day\")\n",
    "\n",
    "medians = distance_covered.groupby(\"time\")['distance'].median()\n",
    "vertical_offset = distance_covered['distance'].median() * 0.05 # offset from median for display\n",
    "\n",
    "for xtick in ax.get_xticks():\n",
    "    ax.text(xtick, medians[xtick] + vertical_offset, np.round(medians[xtick], 3), \n",
    "            horizontalalignment='center',size='x-small',color='w',weight='semibold')\n",
    "\n",
    "\n",
    "plt.show()"
   ]
  },
  {
   "cell_type": "markdown",
   "id": "7a7f6b3b",
   "metadata": {},
   "source": [
    "### Results\n",
    "\n",
    "We can see that taxis actually drive quite a bit per day! On Monday, the median Haversine distance covered is 174 km! With close to same on Tuesday. On Wednesday and Thursday there is less distance covered.\n",
    "\n",
    "\n",
    "From violin plots we can kind of spot a normal distribution for Monday and Tuesday.. But with a long tail for some really long trips. Wednesday and Thursday are not really normal. Could make some QQ-plots here to show that, but I guess that doesn't add much for now.\n",
    "\n",
    "From the violin plot we also note that on Wednesday and Thursday there are quite a bit more taxis, which drive through only a short distance. The most dense part of the distribution for Thursday is pretty close to 0! I'd say around ~15 km by eye. \n",
    "\n",
    "There are also some taxis that drive more than 1000 km a day! Which is actually something that should be looked at if it is not actually some error.."
   ]
  }
 ],
 "metadata": {
  "kernelspec": {
   "display_name": "Python 3",
   "language": "python",
   "name": "python3"
  },
  "language_info": {
   "codemirror_mode": {
    "name": "ipython",
    "version": 3
   },
   "file_extension": ".py",
   "mimetype": "text/x-python",
   "name": "python",
   "nbconvert_exporter": "python",
   "pygments_lexer": "ipython3",
   "version": "3.9.2"
  },
  "toc": {
   "base_numbering": 1,
   "nav_menu": {},
   "number_sections": true,
   "sideBar": true,
   "skip_h1_title": false,
   "title_cell": "Table of Contents",
   "title_sidebar": "Contents",
   "toc_cell": false,
   "toc_position": {},
   "toc_section_display": true,
   "toc_window_display": false
  },
  "varInspector": {
   "cols": {
    "lenName": 16,
    "lenType": 16,
    "lenVar": 40
   },
   "kernels_config": {
    "python": {
     "delete_cmd_postfix": "",
     "delete_cmd_prefix": "del ",
     "library": "var_list.py",
     "varRefreshCmd": "print(var_dic_list())"
    },
    "r": {
     "delete_cmd_postfix": ") ",
     "delete_cmd_prefix": "rm(",
     "library": "var_list.r",
     "varRefreshCmd": "cat(var_dic_list()) "
    }
   },
   "types_to_exclude": [
    "module",
    "function",
    "builtin_function_or_method",
    "instance",
    "_Feature"
   ],
   "window_display": true
  }
 },
 "nbformat": 4,
 "nbformat_minor": 5
}
